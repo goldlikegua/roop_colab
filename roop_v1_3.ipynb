{
  "nbformat": 4,
  "nbformat_minor": 0,
  "metadata": {
    "colab": {
      "provenance": [],
      "machine_shape": "hm",
      "gpuType": "T4",
      "collapsed_sections": [
        "klzSfQPfwSNV"
      ],
      "include_colab_link": true
    },
    "kernelspec": {
      "name": "python3",
      "display_name": "Python 3"
    },
    "language_info": {
      "name": "python"
    },
    "accelerator": "GPU"
  },
  "cells": [
    {
      "cell_type": "markdown",
      "metadata": {
        "id": "view-in-github",
        "colab_type": "text"
      },
      "source": [
        "<a href=\"https://colab.research.google.com/github/goldlikegua/roop_colab/blob/main/roop_v1_3.ipynb\" target=\"_parent\"><img src=\"https://colab.research.google.com/assets/colab-badge.svg\" alt=\"Open In Colab\"/></a>"
      ]
    },
    {
      "cell_type": "markdown",
      "source": [
        "##一张图片，一个视频，一键换脸！\n",
        "\n",
        "[![打开](https://colab.research.google.com/assets/colab-badge.svg)](https://colab.research.google.com/github/dream80/roop_colab/blob/main/roop_v1_3.ipynb)\n",
        "\n",
        "基于[roop](https://github.com/s0md3v/roop)项目的一个脚本你，可以进行图片换脸，也可以视频换脸。可以自定义参数。  \n",
        "\n",
        "特点：就是快捷方便，没有其他。  \n",
        "\n",
        "如果要高质量换脸还是推荐DeepFaclab[教程](https://www.deepfaker.xyz/)\n",
        "\n",
        "脚本仅供学习研究，请勿用于任何非法用途！\n",
        "\n",
        "使用教程：https://www.tonyisstark.com/1240.html  \n",
        "离线版本：https://www.tonyisstark.com/1311.html\n",
        "\n",
        "公众号：托尼不是塔克  \n",
        "博客：[tonyisstark.com](https://www.tonyisstark.com/)"
      ],
      "metadata": {
        "id": "glwNVbldZ1Id"
      }
    },
    {
      "cell_type": "code",
      "execution_count": null,
      "metadata": {
        "id": "ZqdQ95WTKCSQ",
        "cellView": "form"
      },
      "outputs": [],
      "source": [
        "#@title 1.克隆源代码\n",
        "!git clone https://github.com/s0md3v/roop.git\n",
        "!git clone https://github.com/dream80/roop_colab.git\n"
      ]
    },
    {
      "cell_type": "code",
      "source": [
        "#@title 2.进入项目\n",
        "%cd /content/roop\n",
        "\n",
        "Version = \"v1.3.2\" #@param [\"v1.3.0\",\"v1.3.1\",\"v1.3.2\"]\n",
        "\n",
        "vdict = {\n",
        "    \"v1.3.0\": \"142284916a5448acdf1a7fdca56d01c5aecafdad\",\n",
        "    \"v1.3.1\": \"e0642702f388ea16089a1d4a929728fa69457d60\",\n",
        "    \"v1.3.2\": \"c2d1feb17a9c51061b52cae5897136528f3b80cc\",\n",
        "}\n",
        "\n",
        "commit=vdict.get(Version, \"Invalid Version\")\n",
        "\n",
        "vcmd= f\"checkout {commit}\"\n",
        "\n",
        "\n",
        "!git $vcmd"
      ],
      "metadata": {
        "id": "FnSwYDX5K1P2",
        "cellView": "form"
      },
      "execution_count": null,
      "outputs": []
    },
    {
      "cell_type": "code",
      "source": [
        "#@title 3.安装依赖\n",
        "#有红色警告不用担心！\n",
        "%cd /content/roop\n",
        "!pip install -r requirements.txt\n",
        "!pip install onnxruntime-gpu==1.17.0 --index-url=https://pkgs.dev.azure.com/onnxruntime/onnxruntime/_packaging/onnxruntime-cuda-12/pypi/simple\n",
        "#!pip install onnxruntime-gpu==1.15.0"
      ],
      "metadata": {
        "id": "f6urrvLGKqcU",
        "cellView": "form",
        "colab": {
          "base_uri": "https://localhost:8080/"
        },
        "outputId": "565b0f2b-6e70-4be4-882f-87f72868a33e"
      },
      "execution_count": 3,
      "outputs": [
        {
          "output_type": "stream",
          "name": "stdout",
          "text": [
            "/content/roop\n",
            "Looking in indexes: https://pypi.org/simple, https://download.pytorch.org/whl/cu118\n",
            "Ignoring tkinterdnd2-universal: markers 'sys_platform == \"darwin\" and platform_machine == \"arm64\"' don't match your environment\n",
            "Ignoring onnxruntime: markers 'python_version != \"3.9\" and sys_platform == \"darwin\" and platform_machine != \"arm64\"' don't match your environment\n",
            "Ignoring onnxruntime-coreml: markers 'python_version == \"3.9\" and sys_platform == \"darwin\" and platform_machine != \"arm64\"' don't match your environment\n",
            "Ignoring onnxruntime-silicon: markers 'sys_platform == \"darwin\" and platform_machine == \"arm64\"' don't match your environment\n",
            "Collecting numpy==1.24.3 (from -r requirements.txt (line 3))\n",
            "  Downloading numpy-1.24.3-cp311-cp311-manylinux_2_17_x86_64.manylinux2014_x86_64.whl.metadata (5.6 kB)\n",
            "Collecting opencv-python==4.8.0.74 (from -r requirements.txt (line 4))\n",
            "  Downloading opencv_python-4.8.0.74-cp37-abi3-manylinux_2_17_x86_64.manylinux2014_x86_64.whl.metadata (19 kB)\n",
            "Collecting onnx==1.14.0 (from -r requirements.txt (line 5))\n",
            "  Downloading onnx-1.14.0-cp311-cp311-manylinux_2_17_x86_64.manylinux2014_x86_64.whl.metadata (15 kB)\n",
            "Collecting insightface==0.7.3 (from -r requirements.txt (line 6))\n",
            "  Downloading insightface-0.7.3.tar.gz (439 kB)\n",
            "\u001b[2K     \u001b[90m━━━━━━━━━━━━━━━━━━━━━━━━━━━━━━━━━━━━━━━━\u001b[0m \u001b[32m439.5/439.5 kB\u001b[0m \u001b[31m22.3 MB/s\u001b[0m eta \u001b[36m0:00:00\u001b[0m\n",
            "\u001b[?25h  Installing build dependencies ... \u001b[?25l\u001b[?25hdone\n",
            "  Getting requirements to build wheel ... \u001b[?25l\u001b[?25hdone\n",
            "  Preparing metadata (pyproject.toml) ... \u001b[?25l\u001b[?25hdone\n",
            "Requirement already satisfied: psutil==5.9.5 in /usr/local/lib/python3.11/dist-packages (from -r requirements.txt (line 7)) (5.9.5)\n",
            "Collecting tk==0.1.0 (from -r requirements.txt (line 8))\n",
            "  Downloading tk-0.1.0-py3-none-any.whl.metadata (693 bytes)\n",
            "Collecting customtkinter==5.2.0 (from -r requirements.txt (line 9))\n",
            "  Downloading customtkinter-5.2.0-py3-none-any.whl.metadata (652 bytes)\n",
            "Collecting tkinterdnd2==0.3.0 (from -r requirements.txt (line 10))\n",
            "  Downloading tkinterdnd2-0.3.0-py3-none-any.whl.metadata (2.0 kB)\n",
            "Collecting pillow==10.0.0 (from -r requirements.txt (line 12))\n",
            "  Downloading Pillow-10.0.0-cp311-cp311-manylinux_2_28_x86_64.whl.metadata (9.5 kB)\n",
            "Collecting onnxruntime-gpu==1.15.1 (from -r requirements.txt (line 16))\n",
            "  Downloading onnxruntime_gpu-1.15.1-cp311-cp311-manylinux_2_17_x86_64.manylinux2014_x86_64.whl.metadata (4.0 kB)\n",
            "Collecting tensorflow==2.13.0 (from -r requirements.txt (line 17))\n",
            "  Downloading tensorflow-2.13.0-cp311-cp311-manylinux_2_17_x86_64.manylinux2014_x86_64.whl.metadata (3.4 kB)\n",
            "Collecting opennsfw2==0.10.2 (from -r requirements.txt (line 18))\n",
            "  Downloading opennsfw2-0.10.2-py3-none-any.whl.metadata (11 kB)\n",
            "Collecting protobuf==4.23.4 (from -r requirements.txt (line 19))\n",
            "  Downloading protobuf-4.23.4-cp37-abi3-manylinux2014_x86_64.whl.metadata (540 bytes)\n",
            "Collecting tqdm==4.65.0 (from -r requirements.txt (line 20))\n",
            "  Downloading tqdm-4.65.0-py3-none-any.whl.metadata (56 kB)\n",
            "\u001b[2K     \u001b[90m━━━━━━━━━━━━━━━━━━━━━━━━━━━━━━━━━━━━━━━━\u001b[0m \u001b[32m57.0/57.0 kB\u001b[0m \u001b[31m5.3 MB/s\u001b[0m eta \u001b[36m0:00:00\u001b[0m\n",
            "\u001b[?25hCollecting gfpgan==1.3.8 (from -r requirements.txt (line 21))\n",
            "  Downloading gfpgan-1.3.8-py3-none-any.whl.metadata (12 kB)\n",
            "Requirement already satisfied: typing-extensions>=3.6.2.1 in /usr/local/lib/python3.11/dist-packages (from onnx==1.14.0->-r requirements.txt (line 5)) (4.12.2)\n",
            "Requirement already satisfied: requests in /usr/local/lib/python3.11/dist-packages (from insightface==0.7.3->-r requirements.txt (line 6)) (2.32.3)\n",
            "Requirement already satisfied: matplotlib in /usr/local/lib/python3.11/dist-packages (from insightface==0.7.3->-r requirements.txt (line 6)) (3.10.0)\n",
            "Requirement already satisfied: scipy in /usr/local/lib/python3.11/dist-packages (from insightface==0.7.3->-r requirements.txt (line 6)) (1.13.1)\n",
            "Requirement already satisfied: scikit-learn in /usr/local/lib/python3.11/dist-packages (from insightface==0.7.3->-r requirements.txt (line 6)) (1.6.1)\n",
            "Requirement already satisfied: scikit-image in /usr/local/lib/python3.11/dist-packages (from insightface==0.7.3->-r requirements.txt (line 6)) (0.25.1)\n",
            "Requirement already satisfied: easydict in /usr/local/lib/python3.11/dist-packages (from insightface==0.7.3->-r requirements.txt (line 6)) (1.13)\n",
            "Requirement already satisfied: cython in /usr/local/lib/python3.11/dist-packages (from insightface==0.7.3->-r requirements.txt (line 6)) (3.0.11)\n",
            "Requirement already satisfied: albumentations in /usr/local/lib/python3.11/dist-packages (from insightface==0.7.3->-r requirements.txt (line 6)) (2.0.3)\n",
            "Requirement already satisfied: prettytable in /usr/local/lib/python3.11/dist-packages (from insightface==0.7.3->-r requirements.txt (line 6)) (3.14.0)\n",
            "Collecting darkdetect (from customtkinter==5.2.0->-r requirements.txt (line 9))\n",
            "  Downloading darkdetect-0.8.0-py3-none-any.whl.metadata (3.6 kB)\n",
            "Collecting coloredlogs (from onnxruntime-gpu==1.15.1->-r requirements.txt (line 16))\n",
            "  Downloading coloredlogs-15.0.1-py2.py3-none-any.whl.metadata (12 kB)\n",
            "Requirement already satisfied: flatbuffers in /usr/local/lib/python3.11/dist-packages (from onnxruntime-gpu==1.15.1->-r requirements.txt (line 16)) (25.1.24)\n",
            "Requirement already satisfied: packaging in /usr/local/lib/python3.11/dist-packages (from onnxruntime-gpu==1.15.1->-r requirements.txt (line 16)) (24.2)\n",
            "Requirement already satisfied: sympy in /usr/local/lib/python3.11/dist-packages (from onnxruntime-gpu==1.15.1->-r requirements.txt (line 16)) (1.13.1)\n",
            "Requirement already satisfied: absl-py>=1.0.0 in /usr/local/lib/python3.11/dist-packages (from tensorflow==2.13.0->-r requirements.txt (line 17)) (1.4.0)\n",
            "Requirement already satisfied: astunparse>=1.6.0 in /usr/local/lib/python3.11/dist-packages (from tensorflow==2.13.0->-r requirements.txt (line 17)) (1.6.3)\n",
            "Collecting gast<=0.4.0,>=0.2.1 (from tensorflow==2.13.0->-r requirements.txt (line 17))\n",
            "  Downloading gast-0.4.0-py3-none-any.whl.metadata (1.1 kB)\n",
            "Requirement already satisfied: google-pasta>=0.1.1 in /usr/local/lib/python3.11/dist-packages (from tensorflow==2.13.0->-r requirements.txt (line 17)) (0.2.0)\n",
            "Requirement already satisfied: grpcio<2.0,>=1.24.3 in /usr/local/lib/python3.11/dist-packages (from tensorflow==2.13.0->-r requirements.txt (line 17)) (1.70.0)\n",
            "Requirement already satisfied: h5py>=2.9.0 in /usr/local/lib/python3.11/dist-packages (from tensorflow==2.13.0->-r requirements.txt (line 17)) (3.12.1)\n",
            "Collecting keras<2.14,>=2.13.1 (from tensorflow==2.13.0->-r requirements.txt (line 17))\n",
            "  Downloading keras-2.13.1-py3-none-any.whl.metadata (2.4 kB)\n",
            "Requirement already satisfied: libclang>=13.0.0 in /usr/local/lib/python3.11/dist-packages (from tensorflow==2.13.0->-r requirements.txt (line 17)) (18.1.1)\n",
            "Requirement already satisfied: opt-einsum>=2.3.2 in /usr/local/lib/python3.11/dist-packages (from tensorflow==2.13.0->-r requirements.txt (line 17)) (3.4.0)\n",
            "Requirement already satisfied: setuptools in /usr/local/lib/python3.11/dist-packages (from tensorflow==2.13.0->-r requirements.txt (line 17)) (75.1.0)\n",
            "Requirement already satisfied: six>=1.12.0 in /usr/local/lib/python3.11/dist-packages (from tensorflow==2.13.0->-r requirements.txt (line 17)) (1.17.0)\n",
            "Collecting tensorboard<2.14,>=2.13 (from tensorflow==2.13.0->-r requirements.txt (line 17))\n",
            "  Downloading tensorboard-2.13.0-py3-none-any.whl.metadata (1.8 kB)\n",
            "Collecting tensorflow-estimator<2.14,>=2.13.0 (from tensorflow==2.13.0->-r requirements.txt (line 17))\n",
            "  Downloading tensorflow_estimator-2.13.0-py2.py3-none-any.whl.metadata (1.3 kB)\n",
            "Requirement already satisfied: termcolor>=1.1.0 in /usr/local/lib/python3.11/dist-packages (from tensorflow==2.13.0->-r requirements.txt (line 17)) (2.5.0)\n",
            "Collecting typing-extensions>=3.6.2.1 (from onnx==1.14.0->-r requirements.txt (line 5))\n",
            "  Downloading typing_extensions-4.5.0-py3-none-any.whl.metadata (8.5 kB)\n",
            "Requirement already satisfied: wrapt>=1.11.0 in /usr/local/lib/python3.11/dist-packages (from tensorflow==2.13.0->-r requirements.txt (line 17)) (1.17.2)\n",
            "Requirement already satisfied: tensorflow-io-gcs-filesystem>=0.23.1 in /usr/local/lib/python3.11/dist-packages (from tensorflow==2.13.0->-r requirements.txt (line 17)) (0.37.1)\n",
            "Requirement already satisfied: gdown>=4.2.0 in /usr/local/lib/python3.11/dist-packages (from opennsfw2==0.10.2->-r requirements.txt (line 18)) (5.2.0)\n",
            "Collecting basicsr>=1.4.2 (from gfpgan==1.3.8->-r requirements.txt (line 21))\n",
            "  Downloading basicsr-1.4.2.tar.gz (172 kB)\n",
            "\u001b[2K     \u001b[90m━━━━━━━━━━━━━━━━━━━━━━━━━━━━━━━━━━━━━━━━\u001b[0m \u001b[32m172.5/172.5 kB\u001b[0m \u001b[31m14.5 MB/s\u001b[0m eta \u001b[36m0:00:00\u001b[0m\n",
            "\u001b[?25h  Preparing metadata (setup.py) ... \u001b[?25l\u001b[?25hdone\n",
            "Collecting facexlib>=0.2.5 (from gfpgan==1.3.8->-r requirements.txt (line 21))\n",
            "  Downloading facexlib-0.3.0-py3-none-any.whl.metadata (4.6 kB)\n",
            "Collecting lmdb (from gfpgan==1.3.8->-r requirements.txt (line 21))\n",
            "  Downloading lmdb-1.6.2-cp311-cp311-manylinux_2_17_x86_64.manylinux2014_x86_64.whl.metadata (1.1 kB)\n",
            "Requirement already satisfied: pyyaml in /usr/local/lib/python3.11/dist-packages (from gfpgan==1.3.8->-r requirements.txt (line 21)) (6.0.2)\n",
            "Collecting tb-nightly (from gfpgan==1.3.8->-r requirements.txt (line 21))\n",
            "  Downloading tb_nightly-2.19.0a20250209-py3-none-any.whl.metadata (1.8 kB)\n",
            "Requirement already satisfied: torch>=1.7 in /usr/local/lib/python3.11/dist-packages (from gfpgan==1.3.8->-r requirements.txt (line 21)) (2.5.1+cu124)\n",
            "Requirement already satisfied: torchvision in /usr/local/lib/python3.11/dist-packages (from gfpgan==1.3.8->-r requirements.txt (line 21)) (0.20.1+cu124)\n",
            "Collecting yapf (from gfpgan==1.3.8->-r requirements.txt (line 21))\n",
            "  Downloading yapf-0.43.0-py3-none-any.whl.metadata (46 kB)\n",
            "\u001b[2K     \u001b[90m━━━━━━━━━━━━━━━━━━━━━━━━━━━━━━━━━━━━━━━━\u001b[0m \u001b[32m46.8/46.8 kB\u001b[0m \u001b[31m4.1 MB/s\u001b[0m eta \u001b[36m0:00:00\u001b[0m\n",
            "\u001b[?25hRequirement already satisfied: wheel<1.0,>=0.23.0 in /usr/local/lib/python3.11/dist-packages (from astunparse>=1.6.0->tensorflow==2.13.0->-r requirements.txt (line 17)) (0.45.1)\n",
            "Collecting addict (from basicsr>=1.4.2->gfpgan==1.3.8->-r requirements.txt (line 21))\n",
            "  Downloading addict-2.4.0-py3-none-any.whl.metadata (1.0 kB)\n",
            "Requirement already satisfied: future in /usr/local/lib/python3.11/dist-packages (from basicsr>=1.4.2->gfpgan==1.3.8->-r requirements.txt (line 21)) (1.0.0)\n",
            "Collecting filterpy (from facexlib>=0.2.5->gfpgan==1.3.8->-r requirements.txt (line 21))\n",
            "  Downloading filterpy-1.4.5.zip (177 kB)\n",
            "\u001b[2K     \u001b[90m━━━━━━━━━━━━━━━━━━━━━━━━━━━━━━━━━━━━━━━━\u001b[0m \u001b[32m178.0/178.0 kB\u001b[0m \u001b[31m16.6 MB/s\u001b[0m eta \u001b[36m0:00:00\u001b[0m\n",
            "\u001b[?25h  Preparing metadata (setup.py) ... \u001b[?25l\u001b[?25hdone\n",
            "Requirement already satisfied: numba in /usr/local/lib/python3.11/dist-packages (from facexlib>=0.2.5->gfpgan==1.3.8->-r requirements.txt (line 21)) (0.61.0)\n",
            "Requirement already satisfied: beautifulsoup4 in /usr/local/lib/python3.11/dist-packages (from gdown>=4.2.0->opennsfw2==0.10.2->-r requirements.txt (line 18)) (4.13.3)\n",
            "Requirement already satisfied: filelock in /usr/local/lib/python3.11/dist-packages (from gdown>=4.2.0->opennsfw2==0.10.2->-r requirements.txt (line 18)) (3.17.0)\n",
            "Requirement already satisfied: contourpy>=1.0.1 in /usr/local/lib/python3.11/dist-packages (from matplotlib->insightface==0.7.3->-r requirements.txt (line 6)) (1.3.1)\n",
            "Requirement already satisfied: cycler>=0.10 in /usr/local/lib/python3.11/dist-packages (from matplotlib->insightface==0.7.3->-r requirements.txt (line 6)) (0.12.1)\n",
            "Requirement already satisfied: fonttools>=4.22.0 in /usr/local/lib/python3.11/dist-packages (from matplotlib->insightface==0.7.3->-r requirements.txt (line 6)) (4.55.8)\n",
            "Requirement already satisfied: kiwisolver>=1.3.1 in /usr/local/lib/python3.11/dist-packages (from matplotlib->insightface==0.7.3->-r requirements.txt (line 6)) (1.4.8)\n",
            "Requirement already satisfied: pyparsing>=2.3.1 in /usr/local/lib/python3.11/dist-packages (from matplotlib->insightface==0.7.3->-r requirements.txt (line 6)) (3.2.1)\n",
            "Requirement already satisfied: python-dateutil>=2.7 in /usr/local/lib/python3.11/dist-packages (from matplotlib->insightface==0.7.3->-r requirements.txt (line 6)) (2.8.2)\n",
            "Requirement already satisfied: networkx>=3.0 in /usr/local/lib/python3.11/dist-packages (from scikit-image->insightface==0.7.3->-r requirements.txt (line 6)) (3.4.2)\n",
            "INFO: pip is looking at multiple versions of scikit-image to determine which version is compatible with other requirements. This could take a while.\n",
            "Collecting scikit-image (from insightface==0.7.3->-r requirements.txt (line 6))\n",
            "  Downloading scikit_image-0.25.0-cp311-cp311-manylinux_2_17_x86_64.manylinux2014_x86_64.whl.metadata (14 kB)\n",
            "  Downloading scikit_image-0.24.0-cp311-cp311-manylinux_2_17_x86_64.manylinux2014_x86_64.whl.metadata (14 kB)\n",
            "Requirement already satisfied: imageio>=2.33 in /usr/local/lib/python3.11/dist-packages (from scikit-image->insightface==0.7.3->-r requirements.txt (line 6)) (2.37.0)\n",
            "Requirement already satisfied: tifffile>=2022.8.12 in /usr/local/lib/python3.11/dist-packages (from scikit-image->insightface==0.7.3->-r requirements.txt (line 6)) (2025.1.10)\n",
            "Requirement already satisfied: lazy-loader>=0.4 in /usr/local/lib/python3.11/dist-packages (from scikit-image->insightface==0.7.3->-r requirements.txt (line 6)) (0.4)\n",
            "Requirement already satisfied: google-auth<3,>=1.6.3 in /usr/local/lib/python3.11/dist-packages (from tensorboard<2.14,>=2.13->tensorflow==2.13.0->-r requirements.txt (line 17)) (2.27.0)\n",
            "Collecting google-auth-oauthlib<1.1,>=0.5 (from tensorboard<2.14,>=2.13->tensorflow==2.13.0->-r requirements.txt (line 17))\n",
            "  Downloading google_auth_oauthlib-1.0.0-py2.py3-none-any.whl.metadata (2.7 kB)\n",
            "Requirement already satisfied: markdown>=2.6.8 in /usr/local/lib/python3.11/dist-packages (from tensorboard<2.14,>=2.13->tensorflow==2.13.0->-r requirements.txt (line 17)) (3.7)\n",
            "Requirement already satisfied: tensorboard-data-server<0.8.0,>=0.7.0 in /usr/local/lib/python3.11/dist-packages (from tensorboard<2.14,>=2.13->tensorflow==2.13.0->-r requirements.txt (line 17)) (0.7.2)\n",
            "Requirement already satisfied: werkzeug>=1.0.1 in /usr/local/lib/python3.11/dist-packages (from tensorboard<2.14,>=2.13->tensorflow==2.13.0->-r requirements.txt (line 17)) (3.1.3)\n",
            "Requirement already satisfied: charset-normalizer<4,>=2 in /usr/local/lib/python3.11/dist-packages (from requests->insightface==0.7.3->-r requirements.txt (line 6)) (3.4.1)\n",
            "Requirement already satisfied: idna<4,>=2.5 in /usr/local/lib/python3.11/dist-packages (from requests->insightface==0.7.3->-r requirements.txt (line 6)) (3.10)\n",
            "Requirement already satisfied: urllib3<3,>=1.21.1 in /usr/local/lib/python3.11/dist-packages (from requests->insightface==0.7.3->-r requirements.txt (line 6)) (2.3.0)\n",
            "Requirement already satisfied: certifi>=2017.4.17 in /usr/local/lib/python3.11/dist-packages (from requests->insightface==0.7.3->-r requirements.txt (line 6)) (2025.1.31)\n",
            "INFO: pip is looking at multiple versions of torch to determine which version is compatible with other requirements. This could take a while.\n",
            "Collecting torch>=1.7 (from gfpgan==1.3.8->-r requirements.txt (line 21))\n",
            "  Downloading https://download.pytorch.org/whl/cu118/torch-2.6.0%2Bcu118-cp311-cp311-linux_x86_64.whl.metadata (27 kB)\n",
            "  Downloading torch-2.6.0-cp311-cp311-manylinux1_x86_64.whl.metadata (28 kB)\n",
            "  Downloading https://download.pytorch.org/whl/cu118/torch-2.5.1%2Bcu118-cp311-cp311-linux_x86_64.whl (838.4 MB)\n",
            "\u001b[2K     \u001b[90m━━━━━━━━━━━━━━━━━━━━━━━━━━━━━━━━━━━━━━━━\u001b[0m \u001b[32m838.4/838.4 MB\u001b[0m \u001b[31m1.5 MB/s\u001b[0m eta \u001b[36m0:00:00\u001b[0m\n",
            "\u001b[?25h  Downloading torch-2.5.1-cp311-cp311-manylinux1_x86_64.whl.metadata (28 kB)\n",
            "  Downloading https://download.pytorch.org/whl/cu118/torch-2.5.0%2Bcu118-cp311-cp311-linux_x86_64.whl (838.4 MB)\n",
            "\u001b[2K     \u001b[90m━━━━━━━━━━━━━━━━━━━━━━━━━━━━━━━━━━━━━━━━\u001b[0m \u001b[32m838.4/838.4 MB\u001b[0m \u001b[31m2.2 MB/s\u001b[0m eta \u001b[36m0:00:00\u001b[0m\n",
            "\u001b[?25h  Downloading torch-2.5.0-cp311-cp311-manylinux1_x86_64.whl.metadata (28 kB)\n",
            "  Downloading https://download.pytorch.org/whl/cu118/torch-2.4.1%2Bcu118-cp311-cp311-linux_x86_64.whl (857.6 MB)\n",
            "\u001b[2K     \u001b[90m━━━━━━━━━━━━━━━━━━━━━━━━━━━━━━━━━━━━━━━━\u001b[0m \u001b[32m857.6/857.6 MB\u001b[0m \u001b[31m1.7 MB/s\u001b[0m eta \u001b[36m0:00:00\u001b[0m\n",
            "\u001b[?25hINFO: pip is still looking at multiple versions of torch to determine which version is compatible with other requirements. This could take a while.\n",
            "  Downloading torch-2.4.1-cp311-cp311-manylinux1_x86_64.whl.metadata (26 kB)\n",
            "  Downloading https://download.pytorch.org/whl/cu118/torch-2.4.0%2Bcu118-cp311-cp311-linux_x86_64.whl (857.8 MB)\n",
            "\u001b[2K     \u001b[90m━━━━━━━━━━━━━━━━━━━━━━━━━━━━━━━━━━━━━━━━\u001b[0m \u001b[32m857.8/857.8 MB\u001b[0m \u001b[31m1.5 MB/s\u001b[0m eta \u001b[36m0:00:00\u001b[0m\n",
            "\u001b[?25h  Downloading torch-2.4.0-cp311-cp311-manylinux1_x86_64.whl.metadata (26 kB)\n",
            "  Downloading https://download.pytorch.org/whl/cu118/torch-2.3.1%2Bcu118-cp311-cp311-linux_x86_64.whl (839.7 MB)\n",
            "\u001b[2K     \u001b[90m━━━━━━━━━━━━━━━━━━━━━━━━━━━━━━━━━━━━━━━━\u001b[0m \u001b[32m839.7/839.7 MB\u001b[0m \u001b[31m1.2 MB/s\u001b[0m eta \u001b[36m0:00:00\u001b[0m\n",
            "\u001b[?25h  Downloading torch-2.3.1-cp311-cp311-manylinux1_x86_64.whl.metadata (26 kB)\n",
            "INFO: This is taking longer than usual. You might need to provide the dependency resolver with stricter constraints to reduce runtime. See https://pip.pypa.io/warnings/backtracking for guidance. If you want to abort this run, press Ctrl + C.\n",
            "  Downloading https://download.pytorch.org/whl/cu118/torch-2.3.0%2Bcu118-cp311-cp311-linux_x86_64.whl (839.7 MB)\n",
            "\u001b[2K     \u001b[90m━━━━━━━━━━━━━━━━━━━━━━━━━━━━━━━━━━━━━━━━\u001b[0m \u001b[32m839.7/839.7 MB\u001b[0m \u001b[31m1.1 MB/s\u001b[0m eta \u001b[36m0:00:00\u001b[0m\n",
            "\u001b[?25h  Downloading torch-2.3.0-cp311-cp311-manylinux1_x86_64.whl.metadata (26 kB)\n",
            "  Downloading https://download.pytorch.org/whl/cu118/torch-2.2.2%2Bcu118-cp311-cp311-linux_x86_64.whl (819.2 MB)\n",
            "\u001b[2K     \u001b[90m━━━━━━━━━━━━━━━━━━━━━━━━━━━━━━━━━━━━━━━━\u001b[0m \u001b[32m819.2/819.2 MB\u001b[0m \u001b[31m2.4 MB/s\u001b[0m eta \u001b[36m0:00:00\u001b[0m\n",
            "\u001b[?25h  Downloading torch-2.2.2-cp311-cp311-manylinux1_x86_64.whl.metadata (25 kB)\n",
            "  Downloading https://download.pytorch.org/whl/cu118/torch-2.2.1%2Bcu118-cp311-cp311-linux_x86_64.whl (819.2 MB)\n",
            "\u001b[2K     \u001b[90m━━━━━━━━━━━━━━━━━━━━━━━━━━━━━━━━━━━━━━━━\u001b[0m \u001b[32m819.2/819.2 MB\u001b[0m \u001b[31m1.2 MB/s\u001b[0m eta \u001b[36m0:00:00\u001b[0m\n",
            "\u001b[?25h  Downloading torch-2.2.1-cp311-cp311-manylinux1_x86_64.whl.metadata (26 kB)\n",
            "  Downloading https://download.pytorch.org/whl/cu118/torch-2.2.0%2Bcu118-cp311-cp311-linux_x86_64.whl (811.7 MB)\n",
            "\u001b[2K     \u001b[90m━━━━━━━━━━━━━━━━━━━━━━━━━━━━━━━━━━━━━━━━\u001b[0m \u001b[32m811.7/811.7 MB\u001b[0m \u001b[31m1.2 MB/s\u001b[0m eta \u001b[36m0:00:00\u001b[0m\n",
            "\u001b[?25h  Downloading torch-2.2.0-cp311-cp311-manylinux1_x86_64.whl.metadata (25 kB)\n",
            "  Downloading https://download.pytorch.org/whl/cu118/torch-2.1.2%2Bcu118-cp311-cp311-linux_x86_64.whl (2325.9 MB)\n",
            "\u001b[2K     \u001b[91m━━━━━━━━━━━━━━━━━━━━━━━━━━━━━━━━━━━━━━━\u001b[0m\u001b[91m╸\u001b[0m \u001b[32m2.3/2.3 GB\u001b[0m \u001b[31m132.0 MB/s\u001b[0m eta \u001b[36m0:00:01\u001b[0m^C\n",
            "Looking in indexes: https://pkgs.dev.azure.com/onnxruntime/onnxruntime/_packaging/onnxruntime-cuda-12/pypi/simple\n",
            "Collecting onnxruntime-gpu==1.17.0\n",
            "  Downloading https://pkgs.dev.azure.com/onnxruntime/2a773b67-e88b-4c7f-9fc0-87d31fea8ef2/_packaging/7fa31e42-5da1-4e84-a664-f2b4129c7d45/pypi/download/onnxruntime-gpu/1.17/onnxruntime_gpu-1.17.0-cp311-cp311-manylinux_2_28_x86_64.whl (162.7 MB)\n",
            "\u001b[2K     \u001b[90m━━━━━━━━━━━━━━━━━━━━━━━━━━━━━━━━━━━━━━━━\u001b[0m \u001b[32m162.7/162.7 MB\u001b[0m \u001b[31m6.2 MB/s\u001b[0m eta \u001b[36m0:00:00\u001b[0m\n",
            "\u001b[?25hINFO: pip is looking at multiple versions of onnxruntime-gpu to determine which version is compatible with other requirements. This could take a while.\n",
            "\u001b[31mERROR: Could not find a version that satisfies the requirement coloredlogs (from onnxruntime-gpu) (from versions: none)\u001b[0m\u001b[31m\n",
            "\u001b[0m\u001b[31mERROR: No matching distribution found for coloredlogs\u001b[0m\u001b[31m\n",
            "\u001b[0m"
          ]
        }
      ]
    },
    {
      "cell_type": "code",
      "source": [
        "#@title 4.准备素材\n",
        "source = \"/content/roop_colab/1.jpg\" #@param {type:\"string\"}\n",
        "target = \"/content/roop_colab/2.mp4\" #@param {type:\"string\"}\n",
        "output = \"/content/roop_colab/out.mp4\" #@param {type:\"string\"}"
      ],
      "metadata": {
        "cellView": "form",
        "id": "JXUkjpNpz2pc"
      },
      "execution_count": null,
      "outputs": []
    },
    {
      "cell_type": "markdown",
      "source": [
        "source : 源素素材路径，包含人脸的图片  \n",
        "\n",
        "target : 目标图片或者视频路径，也要包含人脸  \n",
        "\n",
        "output : 输出路径，如果targe是图片，这里也改成图片后缀  \n"
      ],
      "metadata": {
        "id": "vW_Ovjjq8Qv8"
      }
    },
    {
      "cell_type": "code",
      "source": [
        "#@title 5.开始换脸\n",
        "\n",
        "%cd /content/roop\n",
        "\n",
        "Device = \"cuda\" #@param [\"cuda\", \"cpu\"]\n",
        "\n",
        "Processor = \"face_swapper face_enhancer\" #@param [\"face_swapper face_enhancer\", \"face_swapper\",\"face_enhancer\"]\n",
        "\n",
        "VideoEncoder = \"libx264\" #@param ['libx264', 'libx265', 'libvpx-vp9', 'h264_nvenc', 'hevc_nvenc']\n",
        "\n",
        "VideoQuality = \"35\" #@param {type:\"string\"}\n",
        "\n",
        "TempFormat = \"jpg\" #@param [\"jpg\", \"png\"]\n",
        "\n",
        "TempQuality = \"0\" #@param {type:\"string\"}\n",
        "\n",
        "\n",
        "KeepFPS = True #@param {type:\"boolean\"}\n",
        "SkipAudio = False #@param {type:\"boolean\"}\n",
        "KeepFrames = False #@param {type:\"boolean\"}\n",
        "ManyFaces = False #@param {type:\"boolean\"}\n",
        "\n",
        "\n",
        "KeepFPS =\"--keep-fps\" if KeepFPS==True else \"\"\n",
        "SkipAudio =\"--skip-audio\" if SkipAudio==True else \"\"\n",
        "KeepFrames =\"--keep-frames\" if KeepFrames==True else \"\"\n",
        "ManyFaces =\"--many-faces\" if ManyFaces==True else \"\"\n",
        "\n",
        "\n",
        "\n",
        "cmd = f\"run.py --execution-provider {Device} -s {source} -t {target} -o {output} --frame-processor {Processor} --output-video-encoder {VideoEncoder} --output-video-quality {VideoQuality} {KeepFPS} {SkipAudio} {KeepFrames} {ManyFaces} --temp-frame-format {TempFormat} --temp-frame-quality {TempQuality}\"\n",
        "print(\"cmd:\"+cmd)\n",
        "\n",
        "\n",
        "!wget https://github.com/dream80/roop_colab/releases/download/v0.0.1/inswapper_128.onnx\n",
        "!mkdir models\n",
        "!mv inswapper_128.onnx models/\n",
        "\n",
        "!wget https://github.com/TencentARC/GFPGAN/releases/download/v1.3.4/GFPGANv1.4.pth\n",
        "!mv GFPGANv1.4.pth models/\n",
        "\n",
        "!python $cmd\n"
      ],
      "metadata": {
        "id": "cMJi9bI3LUyX",
        "cellView": "form"
      },
      "execution_count": null,
      "outputs": []
    },
    {
      "cell_type": "markdown",
      "source": [
        "Device : 选CUDA就是使用GPU，选CPU就用CPU，如果你GPU配额用完了，可以用CPU顶一下。或者开Pro  \n",
        "\n",
        "Precessor : 选择换脸还是人脸修复，默认全部启用，也可以单独使用一个功能。  \n",
        "\n",
        "VideoEncoder : 视频编码器选择，一般用libx264。  \n",
        "\n",
        "VideoQuality : 视频质量，默认35，取值范围0-100  \n",
        "\n",
        "TempFormat ： 缓存帧格式，可以使jpg或者png  \n",
        "\n",
        "TempQuality ： 视频质量，默认0，取值范围0-100  \n",
        "\n",
        "KeepFPS : 保持帧率不变  \n",
        "\n",
        "SkipAudio ： 丢弃音轨   \n",
        "\n",
        "KeepFrames ： 保留分帧后的图片  \n",
        "\n",
        "ManyFaces ： 替换所有人脸"
      ],
      "metadata": {
        "id": "iOOzIywkxw9o"
      }
    },
    {
      "cell_type": "markdown",
      "source": [
        "#补充说明\n",
        "\n",
        "  \n"
      ],
      "metadata": {
        "id": "P_cIVG84cTX3"
      }
    },
    {
      "cell_type": "markdown",
      "source": [
        "\n",
        "## 视频文件在哪里？  \n",
        "\n",
        "换脸成功后的视频保存在roop_colab文件里面  \n"
      ],
      "metadata": {
        "id": "O8qkUHNNw8-z"
      }
    },
    {
      "cell_type": "markdown",
      "source": [
        "## 如何使用自己的素材？  \n",
        "\n",
        "如果要替换图片和视频，只需要在左边的文件管理里面右键上传，然后改一下名字就可以。了。  \n",
        "素材文件都在roop_colab文件中   \n",
        "1.jpg：换脸图片  \n",
        "2.mp4：换脸视频  \n",
        "out.mp4：是换脸后的视频  \n",
        "\n",
        "点击左侧文件，找到MP4,右键可以下载！\n",
        "\n"
      ],
      "metadata": {
        "id": "pl3m7Ymmw3A8"
      }
    },
    {
      "cell_type": "markdown",
      "source": [
        "## 解除NSFW封印\n",
        "\n",
        "不多说，提示都在这里了  \n",
        "MAX_PROBABILITY = 1\n"
      ],
      "metadata": {
        "id": "kUXiEHjCxMpt"
      }
    },
    {
      "cell_type": "markdown",
      "source": [
        "\n",
        "## 大文件处理\n",
        "\n",
        "如果文件比较大，直接在Colab上传会有难度，可以先传到谷歌云盘。然后挂载云盘就可以了，修改一下第五步里面图片和视频的地址就可以了。挂载谷歌盘之后也可以把输出文件直接指向云盘。\n",
        "\n",
        "如何需要使用谷歌云盘的文件，可以点击这个脚本，挂载云盘。\n",
        "\n",
        "from google.colab import drive  \n",
        "drive.mount('/content/drive')"
      ],
      "metadata": {
        "id": "klzSfQPfwSNV"
      }
    }
  ]
}